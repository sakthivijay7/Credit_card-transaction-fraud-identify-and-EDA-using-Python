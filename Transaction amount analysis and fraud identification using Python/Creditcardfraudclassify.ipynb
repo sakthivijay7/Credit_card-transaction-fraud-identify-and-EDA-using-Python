{
  "cells": [
    {
      "cell_type": "markdown",
      "metadata": {
        "id": "5Tc23JXiKTYb"
      },
      "source": [
        "# Credit card transaction Fraud\n"
      ]
    },
    {
      "cell_type": "code",
      "execution_count": null,
      "metadata": {
        "id": "3DP8Cq9VKpcr"
      },
      "outputs": [],
      "source": [
        "import pandas as pd\n",
        "import numpy as np"
      ]
    },
    {
      "cell_type": "markdown",
      "metadata": {
        "id": "TQQEatymvM7e"
      },
      "source": [
        "**Uploading files**\n"
      ]
    },
    {
      "cell_type": "code",
      "execution_count": null,
      "metadata": {
        "colab": {
          "base_uri": "https://localhost:8080/",
          "height": 73
        },
        "id": "44HHjYhULlks",
        "outputId": "52b77876-ea21-4ddf-c156-6a4cfc38acfb"
      },
      
          ]
        }
      ],
      "source": [
        "from google.colab import files\n",
        "uploaded =files.upload()"
      ]
    },
    {
      "cell_type": "markdown",
      "metadata": {
        "id": "AkWSRTwMvGE8"
      },
      "source": [
        "**Reading**\n"
      ]
    },
    {
      "cell_type": "code",
      "execution_count": null,
      "metadata": {
        "colab": {
          "base_uri": "https://localhost:8080/"
        },
        "collapsed": true,
        "id": "dQsIm9yXTh1y",
        "outputId": "6c255eb8-af3b-43fd-f220-7643ad9bb387"
      },
      "outputs": [],
      "source": [
        "dataset=pd.read_csv(\"fraud.csv\")\n",
        "#print(dataset.head())\n",
        "print(dataset.shape)\n",
        "print(dataset.columns)"
      ]
    },
    {
      "cell_type": "markdown",
      "metadata": {
        "id": "CG2VEODMzhZp"
      },
      "source": [
        "**_ Copy of the selected column_**\n"
      ]
    },
    {
      "cell_type": "code",
      "execution_count": null,
      "metadata": {
        "id": "uABIY50exm40"
      },
      "outputs": [],
      "source": [
        "need_columns=['merchant','category','amt','state','lat','long','city_pop','is_fraud']\n",
        "ds=dataset[need_columns].copy()"
      ]
    },
    {
      "cell_type": "markdown",
      "metadata": {
        "id": "fedT5T9ChtxU"
      },
      "source": [
        "Empty and Null values checking\n"
      ]
    },
    {
      "cell_type": "code",
      "execution_count": null,
      "metadata": {
        "colab": {
          "base_uri": "https://localhost:8080/"
        },
        "collapsed": true,
        "id": "K2mt4lZKI9JO",
        "outputId": "3deb4dc2-5cf7-4498-b0af-6314034f58c7"
      },
      "outputs": [],
      "source": [
        "amt=ds[\"amt\"].isnull().sum()\n",
        "category=(ds[\"category\"]=='').sum()+ds[\"category\"].isnull().sum()\n",
        "merchant=(ds[\"merchant\"]=='').sum()+ds[\"merchant\"].isnull().sum()\n",
        "state=(ds[\"state\"]=='').sum()+ds[\"state\"].isnull().sum()\n",
        "lat=ds[\"lat\"].isnull().sum()\n",
        "long=ds[\"long\"].isnull().sum()\n",
        "city_pop=ds[\"city_pop\"].isnull().sum()\n",
        "is_fraud=ds[\"is_fraud\"].isnull().sum()\n",
        "print(amt)\n",
        "print(category)\n",
        "print(merchant)\n",
        "print(state)\n",
        "print(lat)\n",
        "print(long)\n",
        "print(city_pop)\n",
        "print(is_fraud)"
      ]
    },
    {
      "cell_type": "markdown",
      "metadata": {
        "id": "N7tO_6gIh7HX"
      },
      "source": [
        "_Missing Values to be fill_\n"
      ]
    },
    {
      "cell_type": "code",
      "execution_count": null,
      "metadata": {
        "id": "1TEhYEzLiDRA"
      },
      "outputs": [],
      "source": [
        "ds[\"amt\"]=ds[\"amt\"].fillna(ds[\"amt\"].median())\n",
        "ds[\"category\"]=ds[\"category\"].fillna(ds[\"category\"].mode()[0])\n",
        "ds[\"merchant\"]=ds[\"merchant\"].fillna(ds[\"merchant\"].mode()[0])\n",
        "ds[\"state\"]=ds[\"state\"].fillna(ds[\"state\"].mode()[0])\n",
        "ds[\"lat\"]=ds[\"lat\"].fillna(ds[\"lat\"].mean())\n",
        "ds[\"long\"]=ds[\"long\"].fillna(ds[\"long\"].mean())\n",
        "ds[\"city_pop\"]=ds[\"city_pop\"].fillna(ds[\"city_pop\"].median())"
      ]
    },
    {
      "cell_type": "markdown",
      "metadata": {
        "id": "bA9e0LkCC75R"
      },
      "source": [
        "**Features**(input)---- **Target**(output)-segregate\n"
      ]
    },
    {
      "cell_type": "code",
      "execution_count": null,
      "metadata": {
        "colab": {
          "base_uri": "https://localhost:8080/"
        },
        "id": "ZJ0DA9akBbwE",
        "outputId": "a2cfe311-0aa0-45ed-b2ae-998a936037c2"
      },
      "outputs": [],
      "source": [
        "x=ds[['amt','category','merchant','state','lat','long','city_pop']]\n",
        "#print(x)\n",
        "y=ds[\"is_fraud\"]\n",
        "print(y)"
      ]
    },
    {
      "cell_type": "markdown",
      "metadata": {
        "id": "tY5HV4sRiMXz"
      },
      "source": [
        "Splitting of Train and Test datas\n"
      ]
    },
    {
      "cell_type": "code",
      "execution_count": null,
      "metadata": {
        "colab": {
          "base_uri": "https://localhost:8080/"
        },
        "id": "Ezhba0Xc02qs",
        "outputId": "b52d4d3a-d8c9-44c7-815a-60754bf3b1dc"
      },
      "outputs": [],
      "source": [
        "x = x[y.notna()]\n",
        "y = y[y.notna()]\n",
        "print(x.shape)\n",
        "print(y.shape)"
      ]
    },
    {
      "cell_type": "code",
      "execution_count": null,
      "metadata": {
        "colab": {
          "base_uri": "https://localhost:8080/"
        },
        "id": "5tRGHF7OE82-",
        "outputId": "1ad548f5-917a-48c2-ea13-61726e9fb41e"
      },
      "outputs": [],
      "source": [
        "from sklearn.model_selection import train_test_split\n",
        "x_train,x_test,y_train,y_test=train_test_split(x,y,test_size=0.20,random_state=0)\n",
        "print(x_train.shape)\n",
        "print(x_test.shape)\n",
        "print(y_train.shape)\n",
        "print(y_test.shape)"
      ]
    },
    {
      "cell_type": "markdown",
      "metadata": {
        "id": "CIOU-L_e7KKG"
      },
      "source": [
        "**LabelEncoder** assigning of **Category** values to **Numerical** values\n"
      ]
    },
    {
      "cell_type": "code",
      "execution_count": null,
      "metadata": {
        "id": "9R_LiEfj14nS"
      },
      "outputs": [],
      "source": [
        "from sklearn.preprocessing import StandardScaler, LabelEncoder\n",
        "i = ['category', 'merchant', 'state']\n",
        "le = {}\n",
        "for j in i:\n",
        "    le[j] = LabelEncoder()\n",
        "    x_train[j] = le[j].fit_transform(x_train[j])\n",
        "    x_test[j] = le[j].transform(x_test[j])"
      ]
    },
    {
      "cell_type": "markdown",
      "metadata": {
        "id": "uCQp550P7P9j"
      },
      "source": []
    },
    {
      "cell_type": "code",
      "execution_count": null,
      "metadata": {
        "colab": {
          "base_uri": "https://localhost:8080/"
        },
        "id": "T1a2n9roD1bd",
        "outputId": "fe4b3568-eabc-403e-b442-af6243a90463"
      },
      "outputs": [],
      "source": [
        "from sklearn.preprocessing import StandardScaler\n",
        "scale=StandardScaler()\n",
        "X_train=scale.fit_transform(x_train)\n",
        "X_test=scale.transform(x_test)\n",
        "print(X_train.shape)\n",
        "print(X_test.shape)"
      ]
    },
    {
      "cell_type": "markdown",
      "metadata": {
        "id": "St7pkDSbioBH"
      },
      "source": [
        "**MODEL SELECTION AND ALGORITHMS**\n"
      ]
    },
    {
      "cell_type": "code",
      "execution_count": null,
      "metadata": {
        "id": "dsrSg5v9aOMp"
      },
      "outputs": [],
      "source": [
        "from sklearn.linear_model import LogisticRegression\n",
        "from sklearn.neighbors import KNeighborsClassifier\n",
        "from sklearn.svm import SVC\n",
        "from sklearn.naive_bayes import GaussianNB\n",
        "from sklearn.tree import DecisionTreeClassifier\n",
        "from sklearn.ensemble import RandomForestClassifier\n",
        "model1=LogisticRegression()\n",
        "model2=KNeighborsClassifier()\n",
        "model3=SVC()\n",
        "model4=GaussianNB()\n",
        "model5=DecisionTreeClassifier()\n",
        "model6=RandomForestClassifier()"
      ]
    },
    {
      "cell_type": "markdown",
      "metadata": {
        "id": "hSFEUa0ki1lK"
      },
      "source": [
        "Trainning\n"
      ]
    },
    {
      "cell_type": "code",
      "execution_count": null,
      "metadata": {
        "colab": {
          "base_uri": "https://localhost:8080/",
          "height": 80
        },
        "id": "Kbu2dLdycO2W",
        "outputId": "48c5a094-8488-4217-cd10-92e51a993687"
      },
      "outputs": [],
      "source": [
        "model1.fit(X_train,y_train)\n",
        "model2.fit(X_train,y_train)\n",
        "model3.fit(X_train,y_train)\n",
        "model4.fit(X_train,y_train)\n",
        "model5.fit(X_train,y_train)\n",
        "model6.fit(X_train,y_train)"
      ]
    },
    {
      "cell_type": "code",
      "execution_count": null,
      "metadata": {
        "id": "HLyjitm9rdo1"
      },
      "outputs": [],
      "source": [
        "Models={'LR' :model1,\n",
        "        'KNN':model2,\n",
        "        'SVC':model3,\n",
        "       'GNB' :model4,\n",
        "        'DTC':model5,\n",
        "        'RFC':model6}\n",
        "import pickle\n",
        "with open(\"Trainedmodels.pkl\",\"wb\") as file:\n",
        "  pickle.dump(Models,file)"
      ]
    },
    {
      "cell_type": "markdown",
      "metadata": {
        "id": "2RPa7-bIi4xB"
      },
      "source": [
        "Prediction\n"
      ]
    },
    {
      "cell_type": "code",
      "execution_count": null,
      "metadata": {
        "id": "_0bJBlUidzzq"
      },
      "outputs": [],
      "source": [
        "#with open(\"Trainedmodels.pkl\",\"rb\") as file:\n",
        " # loaded_models=pickle.load(file)\n",
        "#y_pred1=loaded_models['LR'].predict(x_test)\n",
        "\n",
        "y_pred1=model1.predict(X_test)\n",
        "y_pred2=model2.predict(X_test)\n",
        "y_pred3=model3.predict(X_test)\n",
        "y_pred4=model4.predict(X_test)\n",
        "y_pred5=model5.predict(X_test)\n",
        "y_pred6=model6.predict(X_test)"
      ]
    },
    {
      "cell_type": "markdown",
      "metadata": {
        "id": "mTUBN-WSi-Kp"
      },
      "source": [
        "**Accuracy score**\n"
      ]
    },
    {
      "cell_type": "code",
      "execution_count": null,
      "metadata": {
        "colab": {
          "base_uri": "https://localhost:8080/"
        },
        "id": "BW49FkHedSOz",
        "outputId": "3da05fc8-582f-4001-89bb-73d3df47915c"
      },
      "outputs": [],
      "source": [
        "from sklearn.metrics import accuracy_score,confusion_matrix\n",
        "print(\"1.Logistic Regression     : %f\",accuracy_score(y_test,y_pred1)*100)\n",
        "print(\"2.KNearestNeighbours      : %f\",accuracy_score(y_test,y_pred2)*100)\n",
        "print(\"3.SupportVectorclassifier : %f\",accuracy_score(y_test,y_pred3)*100)\n",
        "print(\"4.GaussianNB              : %f\",accuracy_score(y_test,y_pred4)*100)\n",
        "print(\"5.DecisionTreeclassifier  : %f\",accuracy_score(y_test,y_pred5)*100)\n",
        "print(\"6.Randomforestclassifier  : %f\",accuracy_score(y_test,y_pred6)*100)"
      ]
    },
    {
      "cell_type": "code",
      "execution_count": null,
      "metadata": {
        "colab": {
          "base_uri": "https://localhost:8080/"
        },
        "id": "pexuJB6uaA0P",
        "outputId": "3296da8c-33d7-4bad-df5b-ee4d13d1dcfc"
      },
      "outputs": [],
      "source": [
        "cm=confusion_matrix(y_test,y_pred6)\n",
        "print(\"Confusion Matrix:\")\n",
        "print(cm)"
      ]
    },
    {
      "cell_type": "markdown",
      "metadata": {
        "id": "xi3ZSRbGaH_d"
      },
      "source": [
        "**USER INPUT TO PREDICTION**\n"
      ]
    },
    {
      "cell_type": "code",
      "execution_count": null,
      "metadata": {
        "colab": {
          "base_uri": "https://localhost:8080/"
        },
        "id": "pwjHoj4NjFfD",
        "outputId": "d658a99b-7e3e-4d47-ac23-382ef2d0f0f5"
      },
      "outputs": [],
      "source": [
        "New=[2.86,\"personal_care\",\"fraud_kirlin and Sons\",\"351 Darlene Green\",33.9659, -80.9355,333497]\n",
        "New_df=pd.DataFrame([New],columns=[\"amt\",\"category\",\"merchant\",\"state\",\"lat\",\"long\",\"city_pop\"])\n",
        "\n",
        "for j in [\"category\",\"merchant\",\"state\"]:\n",
        "  if New_df[j][0] in le[j].classes_:\n",
        "    New_df[j]=le[j].transform(New_df[j])\n",
        "  else:\n",
        "#     New_df[j] = -1\n",
        "\n",
        "#with open(\"Trainedmodels.pkl\",\"rb\") as file:\n",
        " # loaded_models=pickle.load(file)\n",
        "#y_pred1=loaded_models['LR'].predict(x_test)\n",
        "result=model6.predict(scale.transform(New_df)) # Pass New_df instead of New\n",
        "print(result)\n",
        "if result == 0:\n",
        "  print(\"NO fraud detect for the user's credit card transaction.\")\n",
        "else:\n",
        "  print(\"Fraud detect in the user's credit card transaction.\")"
      ]
    }
  ],
  "metadata": {
    "colab": {
      "provenance": []
    },
    "kernelspec": {
      "display_name": "Python 3",
      "name": "python3"
    },
    "language_info": {
      "codemirror_mode": {
        "name": "ipython",
        "version": 3
      },
      "file_extension": ".py",
      "mimetype": "text/x-python",
      "name": "python",
      "nbconvert_exporter": "python",
      "pygments_lexer": "ipython3",
      "version": "3.9.6"
    }
  },
  "nbformat": 4,
  "nbformat_minor": 0
}
